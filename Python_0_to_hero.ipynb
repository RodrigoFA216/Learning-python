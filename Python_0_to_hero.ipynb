{
  "nbformat": 4,
  "nbformat_minor": 0,
  "metadata": {
    "colab": {
      "provenance": []
    },
    "kernelspec": {
      "name": "python3",
      "display_name": "Python 3"
    },
    "language_info": {
      "name": "python"
    }
  },
  "cells": [
    {
      "cell_type": "markdown",
      "source": [
        "# Mostrar datos por consola (out de datos)\n",
        "\n",
        "La función print recibe como parámetros variables o strings que se pueden concatenar con más strings o variables, al igual que en JS con la inserción y concatenación se pueden insertar valores dentro de strings con \"{}\" sin embargo se usa la función format"
      ],
      "metadata": {
        "id": "lYvddTaSHam3"
      }
    },
    {
      "cell_type": "code",
      "execution_count": 5,
      "metadata": {
        "colab": {
          "base_uri": "https://localhost:8080/"
        },
        "id": "7tDuqkr2HUKd",
        "outputId": "3b49f973-e24c-4c6a-c99f-140333bedc56"
      },
      "outputs": [
        {
          "output_type": "stream",
          "name": "stdout",
          "text": [
            "v1  Hola RodrigoFlores , tu edad es  22\n",
            "v2 Hola mi nombre es Rodrigo y mi apellido es Flores, tu edad es 22\n",
            "v3 Hola RodrigoFlores , tu edad es 22\n",
            "v4 Hola Rodrigo Flores, tu edad es 22\n",
            "V5 Hola Rodrigo Flores, tu edad es 22\n"
          ]
        }
      ],
      "source": [
        "name = \"Rodrigo\"\n",
        "last_name= \"Flores\"\n",
        "age = 22\n",
        "\n",
        "#Creas un string y luego lo mandas a imprimir\n",
        "template=\"Hola \"+ name + last_name +\" , tu edad es \" \n",
        "print('v1 ', template, age)#adicionalmente concatenas la edad, algunos compiladores impuden la concatenación de ints con strings\n",
        "\n",
        "#creas un string y con la función format introduces los valores en las llaves {}\n",
        "template=\"Hola mi nombre es {} y mi apellido es {}, tu edad es {}\".format(name,last_name,age)\n",
        "print('v2',template)\n",
        "\n",
        "#imprimir todo concatenando strings y datos\n",
        "print(\"v3 Hola \"+ name + last_name +\" , tu edad es \" + str(age))\n",
        "\n",
        "#usar la función format como f al inicio del string como si fuera un parámetro de template\n",
        "template = f\"Hola {name} {last_name}, tu edad es {age}\"\n",
        "print('v4',template)\n",
        "\n",
        "print(f\"V5 Hola {name} {last_name}, tu edad es {age}\")"
      ]
    },
    {
      "cell_type": "markdown",
      "source": [
        "# Tipos de datos\n",
        "\n",
        "Aun que las variables de Python son dinámicas es decir no poseen un tipo de dato específico a lo largo de todo el programa si adoptan un tipo de dato en específico en cierta parte de la ejecución de un programa"
      ],
      "metadata": {
        "id": "MHn0mxZJJII6"
      }
    },
    {
      "cell_type": "code",
      "source": [
        "#int datatype\n",
        "apples =3\n",
        "print(type(apples))\n",
        "\n",
        "#float datatype\n",
        "degrees = 27.2\n",
        "print(type(degrees))\n",
        "\n",
        "#bool datatype\n",
        "logged=False\n",
        "print(type(logged))\n",
        "    #Invertir un valor bool\n",
        "print(type(not logged))\n",
        "\n",
        "#strings \n",
        "name=\"carlitos\"\n",
        "print(f\"{name} is type \", type(name))\n"
      ],
      "metadata": {
        "colab": {
          "base_uri": "https://localhost:8080/"
        },
        "id": "5hIdRO5oKTjz",
        "outputId": "4c72d63b-0c03-4f4e-8f4f-27bb145038c7"
      },
      "execution_count": 7,
      "outputs": [
        {
          "output_type": "stream",
          "name": "stdout",
          "text": [
            "<class 'int'>\n",
            "<class 'float'>\n",
            "<class 'bool'>\n",
            "<class 'bool'>\n",
            "carlitos is type  <class 'str'>\n"
          ]
        }
      ]
    },
    {
      "cell_type": "markdown",
      "source": [
        "# Conversión de datos String a Number\n",
        "\n",
        "Podemos convertir datos en diferente tipo usando la función int float y str, solo se deben cumplir ciertas condiciones\n",
        "\n",
        "- str to int o float\n",
        "  - El dato guardado en la variable debe contener solo números\n",
        "\n",
        "- int to float\n",
        "  - No hay restricciones básicas\n",
        "\n",
        "- float to int\n",
        "  - El dato int resultante por su naturaleza perderá los decimales (no se redondea)\n",
        "\n",
        "- int to string\n",
        "  - no hay restricciones"
      ],
      "metadata": {
        "id": "xw40LYIRMHef"
      }
    },
    {
      "cell_type": "code",
      "source": [
        "#string to float\n",
        "pi=\"2.12\"\n",
        "pi=float(pi)\n",
        "print(pi+1.02, \"type: \", type(pi))\n",
        "\n",
        "#string to int\n",
        "age=\"23\"\n",
        "age=int(age)\n",
        "print(age+1, \"type: \", type(age))\n",
        "\n",
        "#int to float\n",
        "random=20\n",
        "random=float(random)\n",
        "print(random+.2, \"type: \", type(random))\n",
        "\n",
        "#float to int\n",
        "pi=3.14\n",
        "pi=int(pi)\n",
        "print(pi, \"type: \", type(pi))\n",
        "\n",
        "#int to string\n",
        "age=23\n",
        "age=str(age)\n",
        "print(f\"i'm {age} years old\", \"type: \", type(age))"
      ],
      "metadata": {
        "colab": {
          "base_uri": "https://localhost:8080/"
        },
        "id": "ynBR689TMxpI",
        "outputId": "3cdae3b8-dec2-4ec8-af8a-26a030f8e432"
      },
      "execution_count": 14,
      "outputs": [
        {
          "output_type": "stream",
          "name": "stdout",
          "text": [
            "3.14 type:  <class 'float'>\n",
            "24 type:  <class 'int'>\n",
            "20.2 type:  <class 'float'>\n",
            "3 type:  <class 'int'>\n",
            "i'm 23 years old type:  <class 'str'>\n"
          ]
        }
      ]
    },
    {
      "cell_type": "markdown",
      "source": [
        "# Operaciones aritméticas básicas\n",
        "\n",
        "Podemos ejecutar varias operaciones básicas\n",
        "\n",
        "|Operación|Sintáxis|\n",
        "|---|---|\n",
        "|Suma|a+b|\n",
        "|Resta|a-b|\n",
        "|Multiplicación|a*b|\n",
        "|División|a/b|\n",
        "|Módulo|a%b|\n",
        "|División entera|a//b|\n",
        "|Exponenciación|a**b|"
      ],
      "metadata": {
        "id": "fILvVEgfSC4a"
      }
    },
    {
      "cell_type": "code",
      "source": [
        "# (+) Suma \n",
        "print(5+5)\n",
        "print(\"hi \"+\" how r u?\")\n",
        "# (-) Resta\n",
        "print(10-5)\n",
        "# (*) Multiplicación\n",
        "print(5*2)\n",
        "print(\"hi \"*3)\n",
        "# (/) División\n",
        "print(10/2)\n",
        "# (%) Modulo o Residuo\n",
        "print(10%2)\n",
        "# (//) Division con valor entero\n",
        "print(15//2)\n",
        "# (**) Exponenciación\n",
        "print(5**3)"
      ],
      "metadata": {
        "colab": {
          "base_uri": "https://localhost:8080/"
        },
        "id": "kKBdbBI3TiRq",
        "outputId": "3561bc12-ff01-45bf-9e37-59f47f5da794"
      },
      "execution_count": 15,
      "outputs": [
        {
          "output_type": "stream",
          "name": "stdout",
          "text": [
            "10\n",
            "hi  how r u?\n",
            "5\n",
            "10\n",
            "hi hi hi \n",
            "5.0\n",
            "0\n",
            "7\n",
            "125\n"
          ]
        }
      ]
    },
    {
      "cell_type": "markdown",
      "source": [
        "#Comparadores\n",
        "##Comparadores de cantidad\n",
        "Comparan números enteros o flotantes, usan <, >, =, ! y sus combinaciones\n",
        "\n",
        "##Comparadores lógicos\n",
        "Utilizan bits para poder hacer las comparaciones, se pueden usar numeros enteros o valores booleanos, usan:\n",
        "- And\n",
        "  - Símbolo &\n",
        "- Or\n",
        "  - Símbolo |\n",
        "- Xor\n",
        "  - Símbolo ^\n",
        "- Not\n",
        "  - Símbolo ~\n",
        "- Desplazamiento a la derecha\n",
        "  - Símbolo >>\n",
        "- Desplazamiento a la izquierda\n",
        "  - Símbolo <<"
      ],
      "metadata": {
        "id": "zzHUaLJ8Tw3l"
      }
    },
    {
      "cell_type": "code",
      "source": [
        "# > \n",
        "print(7 > 3)\n",
        "print(3 > 7)\n",
        "print(7 > 7)\n",
        "\n",
        "# <\n",
        "print(5 < 6)\n",
        "print(6 < 5)\n",
        "print(5 < 5)\n",
        "\n",
        "# >=\n",
        "print(2 >= 1)\n",
        "print(2 >= 3)\n",
        "print(2 >= 2)\n",
        "\n",
        "# <=\n",
        "print(1 <= 2)\n",
        "print(2 <= 1)\n",
        "print(2 <= 2)\n",
        "\n",
        "# ==\n",
        "\n",
        "print(6 == 6)\n",
        "print(5 == 2)\n",
        "\n",
        "# !=\n",
        "\n",
        "print(6 != 10)\n",
        "print(6 != 6)\n",
        "\n",
        "print(\"Apple\" == 'Apple')\n",
        "print(\"Apple\" == 'apple')\n",
        "print(\"1\" == 1)\n",
        "\n",
        "age = 15\n",
        "print(age >= 18)\n",
        "\n",
        "a=2\n",
        "b=3\n",
        "\n",
        "#and\n",
        "print(a&b)#2 10 & 11 => 10\n",
        "\n",
        "#or\n",
        "print(a|b)#3 10 | 11 => 11\n",
        "\n",
        "#xor\n",
        "print(a^b)#1 10 ^ 11 => 01\n",
        "\n",
        "#not\n",
        "print(~a)#-3 ~(00000010) => (11111101)\n",
        "\n",
        "#desplazamiento\n",
        "\n",
        "#Realiza un desplazamiento a la derecha bit a bit. Desplaza los bits del operador de la izquierda a la derecha \n",
        "# tantos bits como indica el operador de la derecha\n",
        "print(a>>b)#0 00000010 >> 00000011 = 0\n",
        "\n",
        "#Realiza un desplazamiento a la izquierda bit a bit. Desplaza los bits del operando de la izquierda a la izquierda \n",
        "# tantos bits como especifique el operador de la derecha\n",
        "print(a<<b)#16 00000010 << 00000011 = 00001000"
      ],
      "metadata": {
        "id": "z_I6lnjIVQuE"
      },
      "execution_count": null,
      "outputs": []
    },
    {
      "cell_type": "markdown",
      "source": [
        "#Operadores de pertenencia\n",
        "\n",
        "Un operador de pertenencia se emplea para identificar pertenencia en alguna secuencia (listas, strings, tuplas). Por ejemplo in y not in son operadores de pertenencia.\n",
        "in devuelve True si el valor especificado se encuentra en la secuencia. En caso contrario devuelve False.\n",
        "not in devuelve True si el valor especificado no se encuentra en la secuencia. En caso contrario devuelve False."
      ],
      "metadata": {
        "id": "GZVyzktLV1Ys"
      }
    },
    {
      "cell_type": "code",
      "source": [
        "a = [1,2,3,4,5]\n",
        "#Esta 3 en la lista a?\n",
        "print(3 in a) # Muestra True \n",
        "\n",
        "#No está 12 en la lista a?\n",
        "print(12 not in a) # Muestra True\n",
        "\n",
        "str = \"Hello World\"\n",
        "\n",
        "#Contiene World el string str?\n",
        "print(\"World\" in str) # Muestra True\n",
        "\n",
        "#Contiene world el string str? (nota: distingue mayúsculas y minúsculas)\n",
        "print(\"world\" in str) # Muestra False  \n",
        "\n",
        "print(\"code\" not in str) # Muestra True"
      ],
      "metadata": {
        "id": "laXYMlFaWRT-"
      },
      "execution_count": null,
      "outputs": []
    },
    {
      "cell_type": "markdown",
      "source": [
        "#Operadores de identidad\n",
        "\n",
        "Un operador de identidad se emplea para comprobar si dos variables emplean la misma ubicación en memoria.Por ejemplo is y is not son operadores de identidad.\n",
        "- is devuelve True si los operandos se refieren al mismo objeto. En caso contrario devuelve False.\n",
        "- is not devuelve True si los operandos no se refieren al mismo objeto. En caso contrario devuelve False.\n",
        "\n",
        "Ten en cuenta que dos valores, cuando son iguales, no implica necesariamente que sean idénticos."
      ],
      "metadata": {
        "id": "7bS2ErS2WarP"
      }
    },
    {
      "cell_type": "code",
      "source": [
        "a = 3\n",
        "b = 3  \n",
        "c = 4\n",
        "print (a is b) # muestra True\n",
        "print (a is not b) # muestra False\n",
        "print (a is not c) # muestra True\n",
        "\n",
        "x = 1\n",
        "y = x\n",
        "z = y\n",
        "print (z is 1) # muestra True\n",
        "print (z is x) # muestra True\n",
        "\n",
        "str1 = \"FreeCodeCamp\"\n",
        "str2 = \"FreeCodeCamp\"\n",
        "\n",
        "print (str1 is str2) # muestra True\n",
        "print (\"Code\" is str2) # muestra False\n",
        "\n",
        "a = [10,20,30]\n",
        "b = [10,20,30]\n",
        "\n",
        "print (a is b) \n",
        "# muestra False (ya que las listas son objetos mutables en Python así que se guardan en otro lugar distinto) "
      ],
      "metadata": {
        "id": "CFXv3zEgWzkM"
      },
      "execution_count": null,
      "outputs": []
    }
  ]
}